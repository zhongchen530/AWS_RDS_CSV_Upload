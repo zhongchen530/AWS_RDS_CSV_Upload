{
 "cells": [
  {
   "cell_type": "code",
   "execution_count": null,
   "metadata": {},
   "outputs": [],
   "source": [
    "import numpy as np\n",
    "import pandas as pd\n",
    "import os\n",
    "import psycopg2 as psycopg"
   ]
  },
  {
   "cell_type": "code",
   "execution_count": null,
   "metadata": {},
   "outputs": [],
   "source": [
    "# Get the list names of csv files within the directory\n",
    "def get_csv_list():\n",
    "    csv_list = []\n",
    "    for file in os.listdir(os.getcwd()):\n",
    "        if len(file)>=4 and file[-4:]==\".csv\":\n",
    "                csv_list.append(file)\n",
    "    return csv_list"
   ]
  },
  {
   "cell_type": "code",
   "execution_count": null,
   "metadata": {},
   "outputs": [],
   "source": [
    "# Transform the names so that they become compatable with being SQL table names\n",
    "def clean_name(name):\n",
    "    for symbol in clean_name.to_be_replaced_1:\n",
    "        name = name.replace(symbol,\"_\")\n",
    "    for symbol in clean_name.to_be_replaced_2:\n",
    "        name = name.replace(symbol,\"\")\n",
    "    return name\n",
    "\n",
    "clean_name.to_be_replaced_1 = [\" \",\"_\",\"-\",r\"/\",\"\\\\\",\".\",\",\"]\n",
    "clean_name.to_be_replaced_2 = [\"$\",\"%\",\"(\",\")\"]\n"
   ]
  },
  {
   "cell_type": "code",
   "execution_count": null,
   "metadata": {},
   "outputs": [],
   "source": [
    "# Transform python data type to SQL data and format a string to initilize \n",
    "def cols_str(df):\n",
    "    cols_str.replacements = {\n",
    "        'timedelta64[ns]': 'varchar',\n",
    "        'object': 'varchar',\n",
    "        'float64': 'float',\n",
    "        'int64': 'int',\n",
    "        'datetime64': 'timestamp'\n",
    "    }\n",
    "\n",
    "    return \", \".join( \"{} {}\".format( col_name, cols_str.replacements[ str(df.dtypes.loc[col_name]) ] )  for col_name in df.columns )"
   ]
  },
  {
   "cell_type": "code",
   "execution_count": null,
   "metadata": {},
   "outputs": [],
   "source": [
    "# AWS RDS info\n",
    "host = \"\"\n",
    "dbname = \"\"\n",
    "port = \"5432\"\n",
    "user = \"\"\n",
    "password = \"\"\n",
    "\n",
    "# Establish a connection\n",
    "conn = psycopg.connect(host=host,database=dbname,user=user,port=port,password=password)\n",
    "cursor = conn.cursor()\n",
    "print(\"connected to database\")\n",
    "\n",
    "# Create a folder to move the uploaded csv file to\n",
    "os.chdir(\"/Users/zhongyuanchen/AWS_RDS_Project\")\n",
    "os.system(\"mkdir Uploaded\")\n",
    "\n",
    "# Get the list of file names\n",
    "Tables={}\n",
    "files = get_csv_list()\n",
    "\n",
    "# SQL statment for copying from csv file\n",
    "    SQL_STATEMENT = \"\"\"\n",
    "    COPY %s FROM STDIN WITH\n",
    "        CSV\n",
    "        HEADER\n",
    "        DELIMITER AS ','\n",
    "    \"\"\"\n",
    "\n",
    "# Upload csv file to remote database\n",
    "for file in files:\n",
    "    # Read in the csv file as pandas dataframe\n",
    "    Tables[file]=pd.read_csv(file)\n",
    "    \n",
    "    # Change column names to be compatable with being SQL column name\n",
    "    Tables[file].columns = [ clean_name(name) for name in Tables[file].columns ]\n",
    "    \n",
    "    # Crate corresponding table in remote database\n",
    "    cursor.execute(\"drop table if exists {};\".format(file))\n",
    "    col_str = cols_str(Tables[file])\n",
    "    table_name = file[:-4]\n",
    "    cursor.execute(\"create table {0} ({1});\".format(table_name, col_str))\n",
    "    \n",
    "    # open the csv file\n",
    "    f = open(file)\n",
    "     \n",
    "    # Upload csv file to corresponding table in remote database\n",
    "    cursor.copy_expert(sql=SQL_STATEMENT % table_name, file=f)\n",
    "    cursor.execute(\"grant select on table %s to public\" % table_name)\n",
    "    conn.commit()\n",
    "    print( \"Table '{}' has been added to database\".format(table_name) )\n",
    "    f.close()\n",
    "    \n",
    "    # Move the csv file to the \"Uploaded\" folder\n",
    "    os.system(\"mv '{}' Uploaded\".format(file))\n",
    "    Tables[file].to_csv(file,index=False)\n",
    "    \n",
    "# Close the cursor\n",
    "cursor.close()\n",
    "    "
   ]
  }
 ],
 "metadata": {
  "kernelspec": {
   "display_name": "Python 3",
   "language": "python",
   "name": "python3"
  },
  "language_info": {
   "codemirror_mode": {
    "name": "ipython",
    "version": 3
   },
   "file_extension": ".py",
   "mimetype": "text/x-python",
   "name": "python",
   "nbconvert_exporter": "python",
   "pygments_lexer": "ipython3",
   "version": "3.9.1"
  }
 },
 "nbformat": 4,
 "nbformat_minor": 4
}
